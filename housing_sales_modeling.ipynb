{
 "cells": [
  {
   "cell_type": "markdown",
   "id": "3368a286",
   "metadata": {},
   "source": [
    "# Overview"
   ]
  },
  {
   "cell_type": "code",
   "execution_count": null,
   "id": "0a477813",
   "metadata": {},
   "outputs": [],
   "source": []
  },
  {
   "cell_type": "markdown",
   "id": "3fc47d9c",
   "metadata": {},
   "source": [
    "# Business Understanding"
   ]
  },
  {
   "cell_type": "code",
   "execution_count": null,
   "id": "c6e48716",
   "metadata": {},
   "outputs": [],
   "source": []
  },
  {
   "cell_type": "markdown",
   "id": "80fcb663",
   "metadata": {},
   "source": [
    "# Data Understanding"
   ]
  },
  {
   "cell_type": "code",
   "execution_count": null,
   "id": "d352b4a9",
   "metadata": {},
   "outputs": [],
   "source": []
  },
  {
   "cell_type": "markdown",
   "id": "556df9ac",
   "metadata": {},
   "source": [
    "# Data Cleaning"
   ]
  },
  {
   "cell_type": "code",
   "execution_count": 2,
   "id": "1955411d",
   "metadata": {},
   "outputs": [],
   "source": [
    "import pandas as pd\n",
    "import numpy as np\n",
    "import seaborn as sns\n",
    "import matplotlib.pyplot as plt\n",
    "%matplotlib inline"
   ]
  },
  {
   "cell_type": "code",
   "execution_count": 3,
   "id": "7dd2865e",
   "metadata": {},
   "outputs": [],
   "source": [
    "df = pd.read_csv('data/kc_house_data.csv')"
   ]
  },
  {
   "cell_type": "code",
   "execution_count": 4,
   "id": "cf46263b",
   "metadata": {},
   "outputs": [],
   "source": [
    "#fills waterfront null values with NO because that is the most common option\n",
    "df['waterfront'] = df['waterfront'].fillna('NO')"
   ]
  },
  {
   "cell_type": "code",
   "execution_count": 5,
   "id": "ddbf563b",
   "metadata": {},
   "outputs": [],
   "source": [
    "#fill na in views with none\n",
    "df['view'] = df['view'].fillna('NONE')"
   ]
  },
  {
   "cell_type": "code",
   "execution_count": 6,
   "id": "f3b234f1",
   "metadata": {},
   "outputs": [],
   "source": [
    "#fills any rows with ? in sqft_basement with the sqft_living - sqft_above\n",
    "df['sqft_basement'] = np.where(df['sqft_basement'] == '?', df['sqft_living'] - df['sqft_above'], df['sqft_basement'])\n",
    "df['sqft_basement'] = df['sqft_basement'].astype('float')"
   ]
  },
  {
   "cell_type": "code",
   "execution_count": 7,
   "id": "4b8ed1ce",
   "metadata": {},
   "outputs": [],
   "source": [
    "#maps waterfront to 0 or 1\n",
    "df['waterfront'] = df['waterfront'].map({'NO':0, 'YES':1})"
   ]
  },
  {
   "cell_type": "code",
   "execution_count": 8,
   "id": "98f7d5e3",
   "metadata": {},
   "outputs": [],
   "source": [
    "#maps views with numerical values\n",
    "df['view'] = df['view'].map({'NONE':0, 'FAIR':1, 'AVERAGE':2, 'GOOD':3, 'EXCELLENT':4})"
   ]
  },
  {
   "cell_type": "code",
   "execution_count": 9,
   "id": "dd18ded4",
   "metadata": {},
   "outputs": [],
   "source": [
    "df['yr_renovated'] = df['yr_renovated'].fillna(0)"
   ]
  },
  {
   "cell_type": "code",
   "execution_count": 10,
   "id": "83f0eb29",
   "metadata": {},
   "outputs": [],
   "source": [
    "def condition_coding (condition):\n",
    "    \"\"\"\n",
    "    This will take the condition from string format and transform it into a corresponding code in integer format\n",
    "    Poor = 1, Fair = 2, Average = 3, Good = 4, Very Good = 5\n",
    "    \"\"\"\n",
    "    if condition == 'Poor':\n",
    "        condition_code = 1\n",
    "    elif condition == 'Fair':\n",
    "        condition_code = 2\n",
    "    elif condition == 'Average':\n",
    "        condition_code = 3\n",
    "    elif condition == 'Good':\n",
    "        condition_code = 4\n",
    "    elif condition == 'Very Good':\n",
    "        condition_code = 5\n",
    "    return condition_code\n",
    "\n",
    "df['condition_code'] = df['condition'].map(condition_coding)"
   ]
  },
  {
   "cell_type": "code",
   "execution_count": 11,
   "id": "a3643e55",
   "metadata": {},
   "outputs": [],
   "source": [
    "def grade_coding (grade):\n",
    "    \"\"\"\n",
    "    This takes the grade in string format, splits it into a list of characters\n",
    "    It then concatenates the first two characters from the list and strips the whitespace and turns the result into an integer\n",
    "    We are left with a one or two digit integer correspondinng to the grade of the property\n",
    "    \"\"\"\n",
    "    grade_list = list(grade)\n",
    "    grade_code = int((grade_list[0] + grade_list[1]).strip())\n",
    "    return grade_code\n",
    "\n",
    "df['grade_code'] = df['grade'].map(grade_coding)"
   ]
  },
  {
   "cell_type": "code",
   "execution_count": 12,
   "id": "66d71555",
   "metadata": {},
   "outputs": [],
   "source": [
    "df['age'] = 2022 - df['yr_built']"
   ]
  },
  {
   "cell_type": "code",
   "execution_count": 13,
   "id": "0644506d",
   "metadata": {},
   "outputs": [],
   "source": [
    "def renovated (year):\n",
    "    \"\"\"\n",
    "    This returns a True / False value on whether a property has been renovated or not\n",
    "    \"\"\"\n",
    "    if year == 0.0:\n",
    "        return False\n",
    "    elif year > 0.0:\n",
    "        return True\n",
    "    else:\n",
    "        return False\n",
    "    \n",
    "df['renovated'] = df['yr_renovated'].map(renovated)"
   ]
  },
  {
   "cell_type": "code",
   "execution_count": 14,
   "id": "666a2575",
   "metadata": {},
   "outputs": [],
   "source": [
    "# This creates a column of float values stating how old the renovations are on a property\n",
    "# If a property has not been renovated it will have a 0.0 value\n",
    "\n",
    "df['age_of_renovations'] = 2022 - df['yr_renovated']\n",
    "df.loc[df['age_of_renovations'] == 2022.00, 'age_of_renovations'] = 0.0\n",
    "df['age_of_renovations'] = df['age_of_renovations'].fillna(0)"
   ]
  },
  {
   "cell_type": "markdown",
   "id": "9ce7fe4d",
   "metadata": {},
   "source": [
    "# Data Modeling"
   ]
  },
  {
   "cell_type": "code",
   "execution_count": null,
   "id": "c01b20f7",
   "metadata": {},
   "outputs": [],
   "source": []
  },
  {
   "cell_type": "markdown",
   "id": "43c62a9f",
   "metadata": {},
   "source": [
    "# Regression Results"
   ]
  },
  {
   "cell_type": "code",
   "execution_count": null,
   "id": "959427fc",
   "metadata": {},
   "outputs": [],
   "source": []
  },
  {
   "cell_type": "markdown",
   "id": "ef6701d8",
   "metadata": {},
   "source": [
    "# Conclusion"
   ]
  },
  {
   "cell_type": "code",
   "execution_count": null,
   "id": "1466fbdb",
   "metadata": {},
   "outputs": [],
   "source": []
  }
 ],
 "metadata": {
  "kernelspec": {
   "display_name": "Python (learn-env)",
   "language": "python",
   "name": "learn-env"
  },
  "language_info": {
   "codemirror_mode": {
    "name": "ipython",
    "version": 3
   },
   "file_extension": ".py",
   "mimetype": "text/x-python",
   "name": "python",
   "nbconvert_exporter": "python",
   "pygments_lexer": "ipython3",
   "version": "3.8.5"
  }
 },
 "nbformat": 4,
 "nbformat_minor": 5
}
