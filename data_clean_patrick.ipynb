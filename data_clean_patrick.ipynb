{
 "cells": [
  {
   "cell_type": "code",
   "execution_count": null,
   "metadata": {},
   "outputs": [],
   "source": [
    "import pandas as pd"
   ]
  },
  {
   "cell_type": "code",
   "execution_count": null,
   "metadata": {},
   "outputs": [],
   "source": [
    "df = pd.read_csv('data/kc_house_data.csv')"
   ]
  },
  {
   "cell_type": "code",
   "execution_count": null,
   "metadata": {},
   "outputs": [],
   "source": [
    "df['yr_renovated'] = df['yr_renovated'].fillna(0)"
   ]
  },
  {
   "cell_type": "code",
   "execution_count": null,
   "metadata": {},
   "outputs": [],
   "source": [
    "def condition_coding (condition):\n",
    "    \"\"\"\n",
    "    This will take the condition from string format and transform it into a corresponding code in integer format\n",
    "    Poor = 1, Fair = 2, Average = 3, Good = 4, Very Good = 5\n",
    "    \"\"\"\n",
    "    if condition == 'Poor':\n",
    "        condition_code = 1\n",
    "    elif condition == 'Fair':\n",
    "        condition_code = 2\n",
    "    elif condition == 'Average':\n",
    "        condition_code = 3\n",
    "    elif condition == 'Good':\n",
    "        condition_code = 4\n",
    "    elif condition == 'Very Good':\n",
    "        condition_code = 5\n",
    "    return condition_code\n",
    "\n",
    "df['condition_code'] = df['condition'].map(condition_coding)"
   ]
  },
  {
   "cell_type": "code",
   "execution_count": null,
   "metadata": {},
   "outputs": [],
   "source": [
    "def grade_coding (grade):\n",
    "    \"\"\"\n",
    "    This takes the grade in string format, splits it into a list of characters\n",
    "    It then concatenates the first two characters from the list and strips the whitespace and turns the result into an integer\n",
    "    We are left with a one or two digit integer correspondinng to the grade of the property\n",
    "    \"\"\"\n",
    "    grade_list = list(grade)\n",
    "    grade_code = int((grade_list[0] + grade_list[1]).strip())\n",
    "    return grade_code\n",
    "\n",
    "df['grade_code'] = df['grade'].map(grade_coding)"
   ]
  },
  {
   "cell_type": "code",
   "execution_count": null,
   "metadata": {},
   "outputs": [],
   "source": [
    "df['age'] = 2022 - df['yr_built']"
   ]
  },
  {
   "cell_type": "code",
   "execution_count": null,
   "metadata": {},
   "outputs": [],
   "source": [
    "def renovated (year):\n",
    "    \"\"\"\n",
    "    This returns a True / False value on whether a property has been renovated or not\n",
    "    \"\"\"\n",
    "    if year == 0.0:\n",
    "        return False\n",
    "    elif year > 0.0:\n",
    "        return True\n",
    "    else:\n",
    "        return False\n",
    "    \n",
    "df['renovated'] = df['yr_renovated'].map(renovated)"
   ]
  },
  {
   "cell_type": "code",
   "execution_count": null,
   "metadata": {},
   "outputs": [],
   "source": [
    "# This creates a column of float values stating how old the renovations are on a property\n",
    "# If a property has not been renovated it will have a 0.0 value\n",
    "\n",
    "df['age_of_renovations'] = 2022 - df['yr_renovated']\n",
    "df.loc[df['age_of_renovations'] == 2022.00, 'age_of_renovations'] = 0.0\n",
    "df['age_of_renovations'] = df['age_of_renovations'].fillna(0)"
   ]
  }
 ],
 "metadata": {
  "kernelspec": {
   "display_name": "learn-env",
   "language": "python",
   "name": "learn-env"
  },
  "language_info": {
   "codemirror_mode": {
    "name": "ipython",
    "version": 3
   },
   "file_extension": ".py",
   "mimetype": "text/x-python",
   "name": "python",
   "nbconvert_exporter": "python",
   "pygments_lexer": "ipython3",
   "version": "3.8.5"
  }
 },
 "nbformat": 4,
 "nbformat_minor": 4
}
